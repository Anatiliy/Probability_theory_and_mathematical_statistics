{
 "cells": [
  {
   "attachments": {},
   "cell_type": "markdown",
   "metadata": {},
   "source": [
    "Задача 4. Рост взрослого населения города X имеет нормальное распределение, причем, средний рост равен 174 см, а среднее квадратическое отклонение равно 8 см. посчитайте, какова вероятность того, что случайным образом выбранный взрослый человек имеет рост:\n",
    "1. больше 182 см?\n",
    "2. больше 190 см?\n",
    "3. от 166 см до 190 см?\n",
    "4. от 166 см до 182 см?\n",
    "5. от 158 см до 190 см?\n",
    "6. не выше 150 см или не ниже 190 см?\n",
    "7. не выше 150 см или не ниже 198 см?\n",
    "8. ниже 166 см?\n",
    "\n",
    "Задачу можно решить двумя способами: без использования сторонних библиотек (numpy, scipy, pandas и пр.), а затем проверить себя с помощью встроенных функций"
   ]
  },
  {
   "cell_type": "code",
   "execution_count": 2,
   "metadata": {},
   "outputs": [],
   "source": [
    "from scipy.stats import norm\n",
    "import numpy as np\n",
    "import matplotlib.pyplot as plt\n",
    "import seaborn as sb"
   ]
  },
  {
   "cell_type": "code",
   "execution_count": 3,
   "metadata": {},
   "outputs": [
    {
     "data": {
      "text/plain": [
       "Text(0, 0.5, 'плотность вероятности')"
      ]
     },
     "execution_count": 3,
     "metadata": {},
     "output_type": "execute_result"
    },
    {
     "data": {
      "image/png": "[encoded data removed]",
      "text/plain": [
       "<Figure size 640x480 with 1 Axes>"
      ]
     },
     "metadata": {},
     "output_type": "display_data"
    }
   ],
   "source": [
    "M = 174\n",
    "STD = 8\n",
    "data = np.arange(210)\n",
    "rasp = norm.pdf(data, loc = M, scale = STD)\n",
    "nr = norm(loc = M, scale = STD)\n",
    "sb.set_style('whitegrid')\n",
    "sb.lineplot(rasp, color = 'black')\n",
    "plt.xlabel('Рост')\n",
    "plt.ylabel('плотность вероятности')"
   ]
  },
  {
   "cell_type": "code",
   "execution_count": 5,
   "metadata": {},
   "outputs": [
    {
     "name": "stdout",
     "output_type": "stream",
     "text": [
      "Z = 1.0\n",
      "вероятность того, что случайным образом выбранный взрослый человек имеет рост больше 182 см = 0.15866000000000002\n",
      "Проверка : 0.15865525393145707\n"
     ]
    }
   ],
   "source": [
    "# вероятность того, что случайным образом выбранный взрослый человек имеет рост больше 182 см\n",
    "x = 182\n",
    "z = (x - M) / STD\n",
    "print('Z =', z)\n",
    "p = 1 - 0.84134\n",
    "print('вероятность того, что случайным образом выбранный взрослый человек имеет рост больше 182 см =', p)\n",
    "print('Проверка :', 1 - nr.cdf(x))"
   ]
  },
  {
   "cell_type": "code",
   "execution_count": 8,
   "metadata": {},
   "outputs": [
    {
     "name": "stdout",
     "output_type": "stream",
     "text": [
      "Z = 2.0\n",
      "вероятность того, что случайным образом выбранный взрослый человек имеет рост больше 190 см = 0.022750000000000048\n",
      "Проверка : 0.02275013194817921\n"
     ]
    }
   ],
   "source": [
    "# вероятность того, что случайным образом выбранный взрослый человек имеет рост больше 190 см\n",
    "x = 190\n",
    "z = (x - M) / STD\n",
    "print('Z =', z)\n",
    "p = 1 - 0.97725\n",
    "print('вероятность того, что случайным образом выбранный взрослый человек имеет рост больше 190 см =', p)\n",
    "print('Проверка :', 1 - nr.cdf(x))"
   ]
  },
  {
   "cell_type": "code",
   "execution_count": 12,
   "metadata": {},
   "outputs": [
    {
     "name": "stdout",
     "output_type": "stream",
     "text": [
      "Z = -1.0\n",
      "Z = 2.0\n",
      "вероятность того, что случайным образом выбранный взрослый человек имеет рост от 166 см до 190 см = 0.8185899999999999\n",
      "Проверка : 0.8185946141203637\n"
     ]
    }
   ],
   "source": [
    "# вероятность того, что случайным образом выбранный взрослый человек имеет рост от 166 см до 190 см\n",
    "x1 = 166\n",
    "z = (x1 - M) / STD\n",
    "print('Z =', z)\n",
    "x2 = 190\n",
    "z = (x2 - M) / STD\n",
    "print('Z =', z)\n",
    "p = 0.97725 - 0.15866 \n",
    "print('вероятность того, что случайным образом выбранный взрослый человек имеет рост от 166 см до 190 см =', p)\n",
    "print('Проверка :', nr.cdf(x2) - nr.cdf(x1))"
   ]
  },
  {
   "cell_type": "code",
   "execution_count": 14,
   "metadata": {},
   "outputs": [
    {
     "name": "stdout",
     "output_type": "stream",
     "text": [
      "Z = -1.0\n",
      "Z = 1.0\n",
      "вероятность того, что случайным образом выбранный взрослый человек имеет рост от 166 см до 182 см = 0.68268\n",
      "Проверка : 0.6826894921370859\n"
     ]
    }
   ],
   "source": [
    "# вероятность того, что случайным образом выбранный взрослый человек имеет рост от 166 см до 182 см\n",
    "x1 = 166\n",
    "z = (x1 - M) / STD\n",
    "print('Z =', z)\n",
    "x2 = 182\n",
    "z = (x2 - M) / STD\n",
    "print('Z =', z)\n",
    "p = 0.84134 - 0.15866 \n",
    "print('вероятность того, что случайным образом выбранный взрослый человек имеет рост от 166 см до 182 см =', p)\n",
    "print('Проверка :', nr.cdf(x2) - nr.cdf(x1))"
   ]
  },
  {
   "cell_type": "code",
   "execution_count": 16,
   "metadata": {},
   "outputs": [
    {
     "name": "stdout",
     "output_type": "stream",
     "text": [
      "Z = -2.0\n",
      "Z = 2.0\n",
      "вероятность того, что случайным образом выбранный взрослый человек имеет рост от 158 см до 190 см = 0.9544999999999999\n",
      "Проверка : 0.9544997361036416\n"
     ]
    }
   ],
   "source": [
    "# вероятность того, что случайным образом выбранный взрослый человек имеет рост от 158 см до 190 см\n",
    "x1 = 158\n",
    "z = (x1 - M) / STD\n",
    "print('Z =', z)\n",
    "x2 = 190\n",
    "z = (x2 - M) / STD\n",
    "print('Z =', z)\n",
    "p = 0.97725 - 0.02275 \n",
    "print('вероятность того, что случайным образом выбранный взрослый человек имеет рост от 158 см до 190 см =', p)\n",
    "print('Проверка :', nr.cdf(x2) - nr.cdf(x1))"
   ]
  },
  {
   "cell_type": "code",
   "execution_count": 19,
   "metadata": {},
   "outputs": [
    {
     "name": "stdout",
     "output_type": "stream",
     "text": [
      "Z = -3.0\n",
      "Z = 2.0\n",
      "вероятность того, что случайным образом выбранный взрослый человек имеет рост не выше 150 см или не ниже 190 см = 0.02410000000000005\n",
      "Проверка : 0.0241000299798093\n"
     ]
    }
   ],
   "source": [
    "# вероятность того, что случайным образом выбранный взрослый человек имеет рост не выше 150 см или не ниже 190 см\n",
    "x1 = 150\n",
    "z = (x1 - M) / STD\n",
    "print('Z =', z)\n",
    "x2 = 190\n",
    "z = (x2 - M) / STD\n",
    "print('Z =', z)\n",
    "p = 1 - 0.97725 + 0.00135 \n",
    "print('вероятность того, что случайным образом выбранный взрослый человек имеет рост не выше 150 см или не ниже 190 см =', p)\n",
    "print('Проверка :', 1 - nr.cdf(x2) + nr.cdf(x1))"
   ]
  },
  {
   "cell_type": "code",
   "execution_count": 21,
   "metadata": {},
   "outputs": [
    {
     "name": "stdout",
     "output_type": "stream",
     "text": [
      "Z = -3.0\n",
      "Z = 3.0\n",
      "вероятность того, что случайным образом выбранный взрослый человек имеет рост не выше 150 см или не ниже 198 см = 0.0026999999999999624\n",
      "Проверка : 0.0026997960632601965\n"
     ]
    }
   ],
   "source": [
    "# вероятность того, что случайным образом выбранный взрослый человек имеет рост не выше 150 см или не ниже 198 см\n",
    "x1 = 150\n",
    "z = (x1 - M) / STD\n",
    "print('Z =', z)\n",
    "x2 = 198\n",
    "z = (x2 - M) / STD\n",
    "print('Z =', z)\n",
    "p = 1 - 0.99865 + 0.00135 \n",
    "print('вероятность того, что случайным образом выбранный взрослый человек имеет рост не выше 150 см или не ниже 198 см =', p)\n",
    "print('Проверка :', 1 - nr.cdf(x2) + nr.cdf(x1))"
   ]
  },
  {
   "cell_type": "code",
   "execution_count": 25,
   "metadata": {},
   "outputs": [
    {
     "name": "stdout",
     "output_type": "stream",
     "text": [
      "Z = -1.0\n",
      "вероятность того, что случайным образом выбранный взрослый человек имеет рост ниже 166 см = 0.15866\n",
      "Проверка : 0.15865525393145707\n"
     ]
    }
   ],
   "source": [
    "# вероятность того, что случайным образом выбранный взрослый человек имеет рост ниже 166 см\n",
    "x1 = 166\n",
    "z = (x1 - M) / STD\n",
    "print('Z =', z)\n",
    "p = 0.15866\n",
    "print('вероятность того, что случайным образом выбранный взрослый человек имеет рост ниже 166 см =', p)\n",
    "print('Проверка :', nr.cdf(x1))"
   ]
  }
 ],
 "metadata": {
  "kernelspec": {
   "display_name": "Python 3",
   "language": "python",
   "name": "python3"
  },
  "language_info": {
   "codemirror_mode": {
    "name": "ipython",
    "version": 3
   },
   "file_extension": ".py",
   "mimetype": "text/x-python",
   "name": "python",
   "nbconvert_exporter": "python",
   "pygments_lexer": "ipython3",
   "version": "3.10.6"
  },
  "orig_nbformat": 4
 },
 "nbformat": 4,
 "nbformat_minor": 2
}
