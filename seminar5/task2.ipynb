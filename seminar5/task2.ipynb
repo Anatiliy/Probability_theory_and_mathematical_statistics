{
 "cells": [
  {
   "attachments": {},
   "cell_type": "markdown",
   "metadata": {},
   "source": [
    "Задача 2. Проведите тест гипотезы. Утверждается, что шарики для подшипников, изготовленные\n",
    "автоматическим станком, имеют средний диаметр 17 мм.\n",
    "Используя односторонний критерий с α=0,05, проверить эту гипотезу, если в выборке из\n",
    "n=100 шариков средний диаметр\n",
    "оказался равным 17.5 мм, а дисперсия известна и равна 4 кв. мм."
   ]
  },
  {
   "cell_type": "code",
   "execution_count": 4,
   "metadata": {},
   "outputs": [],
   "source": [
    "from math import *"
   ]
  },
  {
   "cell_type": "code",
   "execution_count": 5,
   "metadata": {},
   "outputs": [],
   "source": [
    "M = 17\n",
    "D = 4\n",
    "a = 0.05\n",
    "n = 100\n",
    "mx = 17.5"
   ]
  },
  {
   "attachments": {},
   "cell_type": "markdown",
   "metadata": {},
   "source": [
    "Так как известна дисперсия, используем Z –критерий."
   ]
  },
  {
   "cell_type": "code",
   "execution_count": 6,
   "metadata": {},
   "outputs": [
    {
     "name": "stdout",
     "output_type": "stream",
     "text": [
      "Z =  2.5\n"
     ]
    }
   ],
   "source": [
    "z = (mx - M) / (sqrt(D) / sqrt(n))\n",
    "print('Z = ', z)"
   ]
  },
  {
   "attachments": {},
   "cell_type": "markdown",
   "metadata": {},
   "source": [
    "Нулевая гипотеза утверждает,что между средними диаметрами в генеральной совокупности и в выборке нет статистически значимых отклонений.\n",
    "Альтернативная гипотеза утверждает, что средний диаметр шариков из выборки больше (есть статистически значимые отклонения) среднего диаметра шариков из генеральной совокупности."
   ]
  },
  {
   "attachments": {},
   "cell_type": "markdown",
   "metadata": {},
   "source": [
    "для расчётного Z = 2.5 P-value = 1 - 0,9938\n",
    "для α = 0,05 p = 1 - α, табличное Z = 1.645\n",
    "т.к. Z расчётное > Z табличного (P-value < α) принимаем альтернативную гипотезу (между средними диаметрами в генеральной совокупности и в выборке есть статистически значимые отклонения)"
   ]
  }
 ],
 "metadata": {
  "kernelspec": {
   "display_name": "Python 3",
   "language": "python",
   "name": "python3"
  },
  "language_info": {
   "codemirror_mode": {
    "name": "ipython",
    "version": 3
   },
   "file_extension": ".py",
   "mimetype": "text/x-python",
   "name": "python",
   "nbconvert_exporter": "python",
   "pygments_lexer": "ipython3",
   "version": "3.10.6"
  },
  "orig_nbformat": 4
 },
 "nbformat": 4,
 "nbformat_minor": 2
}
