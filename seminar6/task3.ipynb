{
 "cells": [
  {
   "attachments": {},
   "cell_type": "markdown",
   "metadata": {},
   "source": [
    "Задача 3. Рост дочерей 175, 167, 154, 174, 178, 148, 160, 167, 169, 170\n",
    "Рост матерей 178, 165, 165, 173, 168, 155, 160, 164, 178, 175\n",
    "\n",
    "Используя эти данные построить 95% доверительный интервал для разности среднего\n",
    "роста родителей и детей."
   ]
  },
  {
   "cell_type": "code",
   "execution_count": 2,
   "metadata": {},
   "outputs": [],
   "source": [
    "import numpy as np\n",
    "from scipy import stats"
   ]
  },
  {
   "cell_type": "code",
   "execution_count": 3,
   "metadata": {},
   "outputs": [],
   "source": [
    "sample_0 = np.array([178, 165, 165, 173, 168, 155, 160, 164, 178, 175]) # рост матерей\n",
    "sample_1 = np.array([175, 167, 154, 174, 178, 148, 160, 167, 169, 170]) # рост дочерей"
   ]
  },
  {
   "cell_type": "code",
   "execution_count": 14,
   "metadata": {},
   "outputs": [],
   "source": [
    "# находим средние арифметические и их разность\n",
    "x1 = sample_0.mean()\n",
    "x2 = sample_1.mean()\n",
    "delta = x1 - x2"
   ]
  },
  {
   "cell_type": "code",
   "execution_count": 10,
   "metadata": {},
   "outputs": [],
   "source": [
    "# Находим несмещенные дисперсии для каждой выборки и затем стандартную ошибку для разности средних и критерий Стьюдента.\n",
    "D1 = np.var(sample_0, ddof=1)\n",
    "D2 = np.var(sample_1, ddof=1)\n",
    "D = (D1 + D2) / 2\n",
    "SE = np.sqrt(D / len(sample_0) + D / len(sample_1))"
   ]
  },
  {
   "cell_type": "code",
   "execution_count": 12,
   "metadata": {},
   "outputs": [
    {
     "name": "stdout",
     "output_type": "stream",
     "text": [
      "Доверительный интервал = (-6.268418034506846, 10.068418034506857)\n"
     ]
    }
   ],
   "source": [
    "# Вычисляем доверительный интервал\n",
    "beg = delta - stats.t.ppf(0.975, 18) * SE\n",
    "end = delta + stats.t.ppf(0.975, 18) * SE\n",
    "print('Доверительный интервал =', (beg, end))"
   ]
  }
 ],
 "metadata": {
  "kernelspec": {
   "display_name": "Python 3",
   "language": "python",
   "name": "python3"
  },
  "language_info": {
   "codemirror_mode": {
    "name": "ipython",
    "version": 3
   },
   "file_extension": ".py",
   "mimetype": "text/x-python",
   "name": "python",
   "nbconvert_exporter": "python",
   "pygments_lexer": "ipython3",
   "version": "3.10.6"
  },
  "orig_nbformat": 4
 },
 "nbformat": 4,
 "nbformat_minor": 2
}
