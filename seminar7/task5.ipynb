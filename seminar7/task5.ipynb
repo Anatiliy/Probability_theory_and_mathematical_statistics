{
 "cells": [
  {
   "attachments": {},
   "cell_type": "markdown",
   "metadata": {},
   "source": [
    "Задача 5. Заявляется, что партия изготавливается со средним арифметическим 2,5 см. Проверить\n",
    "данную гипотезу, если известно, что размеры изделий подчинены нормальному закону\n",
    "распределения. Объем выборки 10, уровень статистической значимости 5%\n",
    "2.51, 2.35, 2.74, 2.56, 2.40, 2.36, 2.65, 2.7, 2.67, 2.34"
   ]
  },
  {
   "cell_type": "code",
   "execution_count": 7,
   "metadata": {},
   "outputs": [],
   "source": [
    "import numpy as np"
   ]
  },
  {
   "cell_type": "code",
   "execution_count": 8,
   "metadata": {},
   "outputs": [],
   "source": [
    "M = 2.5\n",
    "sample = np.array([2.51, 2.35, 2.74, 2.56, 2.40, 2.36, 2.65, 2.7, 2.67, 2.34])\n",
    "n = 10\n",
    "a = 0.05"
   ]
  },
  {
   "attachments": {},
   "cell_type": "markdown",
   "metadata": {},
   "source": [
    "Так как дисперсия неизвестна , используем t – критерий.\n",
    "Проводим двусторонний тест."
   ]
  },
  {
   "cell_type": "code",
   "execution_count": 9,
   "metadata": {},
   "outputs": [
    {
     "name": "stdout",
     "output_type": "stream",
     "text": [
      "t =  0.5630613661802959\n",
      "среднее значение по выборке = 2.5279999999999996\n"
     ]
    }
   ],
   "source": [
    "mx = np.mean(sample)\n",
    "t = (mx - M) / (np.std(sample, ddof=1) / np.sqrt(n))\n",
    "print('t = ', t)\n",
    "print('среднее значение по выборке =', mx)"
   ]
  },
  {
   "attachments": {},
   "cell_type": "markdown",
   "metadata": {},
   "source": [
    "Нулевая гипотеза утверждает, что партия изготавливается со средним арифметическим 2,5 см.\n",
    "Альтернативная гипотеза утверждает, что партия изготавливается со средним арифметическим, отличным от 2,5 см."
   ]
  },
  {
   "attachments": {},
   "cell_type": "markdown",
   "metadata": {},
   "source": [
    "для доверительной вероятности 97,5% и числа степеней свободы n - 1 = 9, табличное t = 2.262.\n",
    "Т.к. среднее значение по выборке = 2.528 > 2.5, а t расчётное > t табличного (0.563 > 2.262) принимаем альтернативную гипотезу (партия изготавливается со средним арифметическим, отличным от 2,5 см)"
   ]
  }
 ],
 "metadata": {
  "kernelspec": {
   "display_name": "Python 3",
   "language": "python",
   "name": "python3"
  },
  "language_info": {
   "codemirror_mode": {
    "name": "ipython",
    "version": 3
   },
   "file_extension": ".py",
   "mimetype": "text/x-python",
   "name": "python",
   "nbconvert_exporter": "python",
   "pygments_lexer": "ipython3",
   "version": "3.10.6"
  },
  "orig_nbformat": 4
 },
 "nbformat": 4,
 "nbformat_minor": 2
}
