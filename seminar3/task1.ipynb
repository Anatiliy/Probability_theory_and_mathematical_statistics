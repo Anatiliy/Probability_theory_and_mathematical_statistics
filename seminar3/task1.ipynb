{
 "cells": [
  {
   "cell_type": "code",
   "execution_count": 8,
   "metadata": {},
   "outputs": [],
   "source": [
    "from math import *"
   ]
  },
  {
   "attachments": {},
   "cell_type": "markdown",
   "metadata": {},
   "source": [
    "Задача 1. Даны значения зарплат из выборки выпускников: 100, 80, 75, 77, 89, 33, 45, 25, 65, 17, 30, 24, 57, 55, 70, 75, 65, 84, 90, 150. Посчитать (желательно без использования статистических методов наподобие std, var, mean) среднее арифметическое, среднее квадратичное отклонение, смещенную и несмещенную оценки дисперсий для данной выборки."
   ]
  },
  {
   "cell_type": "code",
   "execution_count": 16,
   "metadata": {},
   "outputs": [],
   "source": [
    "selection = [100, 80, 75, 77, 89, 33, 45, 25, 65, 17, 30, 24, 57, 55, 70, 75, 65, 84, 90, 150]"
   ]
  },
  {
   "cell_type": "code",
   "execution_count": 15,
   "metadata": {},
   "outputs": [
    {
     "name": "stdout",
     "output_type": "stream",
     "text": [
      "среднее арифмитическое = 65.3\n"
     ]
    }
   ],
   "source": [
    "#среднее арифмитическое\n",
    "arithmetic_mean = sum(selection) / len(selection)\n",
    "print('среднее арифмитическое =', arithmetic_mean)"
   ]
  },
  {
   "cell_type": "code",
   "execution_count": 14,
   "metadata": {},
   "outputs": [
    {
     "name": "stdout",
     "output_type": "stream",
     "text": [
      "среднее квадратичное отклонение = 30.823854398825596\n"
     ]
    }
   ],
   "source": [
    "#среднее квадратичное отклонение\n",
    "mean_square_deviation = sqrt(sum(map(lambda item: (item - arithmetic_mean) ** 2, selection)) / len(selection))\n",
    "print('среднее квадратичное отклонение =', mean_square_deviation)"
   ]
  },
  {
   "cell_type": "code",
   "execution_count": 13,
   "metadata": {},
   "outputs": [
    {
     "name": "stdout",
     "output_type": "stream",
     "text": [
      "смещенная оценка дисперсии = 950.11\n",
      "несмещенная оценка дисперсии = 1000.1157894736842\n"
     ]
    }
   ],
   "source": [
    "#смещенная и несмещенная оценка дисперсии\n",
    "biased_variance = sum(map(lambda item: (item - arithmetic_mean) ** 2, selection)) / len(selection)\n",
    "unbiased_variance = sum(map(lambda item: (item - arithmetic_mean) ** 2, selection)) / (len(selection) - 1)\n",
    "print('смещенная оценка дисперсии =', biased_variance)\n",
    "print('несмещенная оценка дисперсии =', unbiased_variance)"
   ]
  }
 ],
 "metadata": {
  "kernelspec": {
   "display_name": "Python 3",
   "language": "python",
   "name": "python3"
  },
  "language_info": {
   "codemirror_mode": {
    "name": "ipython",
    "version": 3
   },
   "file_extension": ".py",
   "mimetype": "text/x-python",
   "name": "python",
   "nbconvert_exporter": "python",
   "pygments_lexer": "ipython3",
   "version": "3.10.6"
  },
  "orig_nbformat": 4
 },
 "nbformat": 4,
 "nbformat_minor": 2
}
