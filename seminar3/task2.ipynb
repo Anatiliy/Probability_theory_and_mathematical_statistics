{
 "cells": [
  {
   "attachments": {},
   "cell_type": "markdown",
   "metadata": {},
   "source": [
    "Задача 2. В первом ящике находится 8 мячей, из которых 5 - белые. Во втором ящике - 12 мячей, из которых 5 белых. Из первого ящика вытаскивают случайным образом два мяча, из второго - 4 мяча. Какова вероятность того, что 3 мяча белые?"
   ]
  },
  {
   "cell_type": "code",
   "execution_count": 4,
   "metadata": {},
   "outputs": [],
   "source": [
    "from math import factorial"
   ]
  },
  {
   "cell_type": "code",
   "execution_count": 9,
   "metadata": {},
   "outputs": [],
   "source": [
    "# функция вычисления количества возможных сочетаний\n",
    "def calculate_combination(arg1:int, arg2:int):\n",
    "    return factorial(arg1) / (factorial(arg2) * factorial(arg1 - arg2))"
   ]
  },
  {
   "cell_type": "code",
   "execution_count": 16,
   "metadata": {},
   "outputs": [],
   "source": [
    "# функция вычисления вероятности достать num белых мячей из lot_num мячей из ящика с total_num мячами, из которых w_num белые.\n",
    "def calculate_box(num: int, lot_num = 2, total_num = 8, w_num = 5):\n",
    "    return calculate_combination(w_num, num) * calculate_combination(total_num - w_num, lot_num - num) / calculate_combination(total_num, lot_num)"
   ]
  },
  {
   "cell_type": "code",
   "execution_count": 17,
   "metadata": {},
   "outputs": [
    {
     "name": "stdout",
     "output_type": "stream",
     "text": [
      "вероятность того, что 3 мяча белые = 0.3686868686868687\n"
     ]
    }
   ],
   "source": [
    "result = calculate_box(0) * calculate_box(3, lot_num=4, total_num=12) + calculate_box(1) * calculate_box(2, lot_num=4, total_num=12) + calculate_box(2) * calculate_box(1, lot_num=4, total_num=12)\n",
    "\n",
    "print('вероятность того, что 3 мяча белые =', result)"
   ]
  }
 ],
 "metadata": {
  "kernelspec": {
   "display_name": "Python 3",
   "language": "python",
   "name": "python3"
  },
  "language_info": {
   "codemirror_mode": {
    "name": "ipython",
    "version": 3
   },
   "file_extension": ".py",
   "mimetype": "text/x-python",
   "name": "python",
   "nbconvert_exporter": "python",
   "pygments_lexer": "ipython3",
   "version": "3.10.6"
  },
  "orig_nbformat": 4
 },
 "nbformat": 4,
 "nbformat_minor": 2
}
